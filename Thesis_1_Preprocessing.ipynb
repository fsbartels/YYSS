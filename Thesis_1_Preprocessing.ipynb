{
  "nbformat": 4,
  "nbformat_minor": 0,
  "metadata": {
    "colab": {
      "name": "Thesis 1. Preprocessing",
      "version": "0.3.2",
      "provenance": [],
      "collapsed_sections": []
    },
    "kernelspec": {
      "name": "python3",
      "display_name": "Python 3"
    },
    "accelerator": "GPU"
  },
  "cells": [
    {
      "cell_type": "markdown",
      "metadata": {
        "id": "9wv0iyb3trVa",
        "colab_type": "text"
      },
      "source": [
        "## KEY VARIABLES\n",
        "* Youtube_ID obviously designates the video to analyze.\n",
        "* Frame step designates how many frames per second to analyze with OpenPose. Default fps is 24 frames per second.\n"
      ]
    },
    {
      "cell_type": "code",
      "metadata": {
        "id": "y0qXCFKSttMb",
        "colab_type": "code",
        "colab": {}
      },
      "source": [
        "YOUTUBE_ID = 'Is8tMCpv4F8'\n",
        "# Frame_step also has to be set manually @ preprocessing!\n",
        "FRAMESTEP = 6"
      ],
      "execution_count": 0,
      "outputs": []
    },
    {
      "cell_type": "markdown",
      "metadata": {
        "id": "K6qgyzjjuvZa",
        "colab_type": "text"
      },
      "source": [
        "# **Preparation**"
      ]
    },
    {
      "cell_type": "code",
      "metadata": {
        "id": "wk56Wvpf508P",
        "colab_type": "code",
        "outputId": "7ab2d016-e3b3-4fd2-900c-fcaeab6aaefd",
        "colab": {
          "base_uri": "https://localhost:8080/",
          "height": 426
        }
      },
      "source": [
        "import time\n",
        "preparation_start = time.time()\n",
        "\n",
        "# Pick and show Youtube video\n",
        "### Elderly yoga example: YOUTUBE_ID = 'kFhG-ZzLNN4'\n",
        "### Default example: YOUTUBE_ID = 'nQFf38xeBww'\n",
        "\n",
        "#Import required modules\n",
        "import pandas as pd\n",
        "from pandas.io.json import json_normalize\n",
        "from pathlib import Path\n",
        "import json\n",
        "from IPython.display import YouTubeVideo\n",
        "from google.colab import drive\n",
        "import os\n",
        "from os.path import exists, join, basename, splitext\n",
        "from IPython.display import clear_output\n",
        "import os\n",
        "from __future__ import print_function\n",
        "from __future__ import division\n",
        "import cv2 as cv\n",
        "import numpy as np\n",
        "import argparse\n",
        "import glob\n",
        "import imutils\n",
        "import seaborn as sns; sns.set()\n",
        "import matplotlib.pyplot as plt\n",
        "from IPython.display import Image\n",
        "import PIL\n",
        "import warnings\n",
        "from scipy.spatial import procrustes \n",
        "import sys\n",
        "import seaborn as sns\n",
        "from scipy.spatial import distance\n",
        "import sklearn\n",
        "from sklearn.impute import SimpleImputer\n",
        "from sklearn.preprocessing import StandardScaler\n",
        "from sklearn.model_selection import train_test_split\n",
        "from sklearn.model_selection import cross_val_score\n",
        "from sklearn.linear_model import LinearRegression\n",
        "from sklearn.linear_model import Ridge\n",
        "from sklearn.linear_model import Lasso\n",
        "from sklearn.neighbors import KNeighborsClassifier\n",
        "from sklearn.neighbors import KNeighborsRegressor\n",
        "from sklearn.linear_model import LogisticRegression\n",
        "from sklearn.svm import LinearSVC\n",
        "from sklearn.model_selection import GridSearchCV\n",
        "from sklearn.pipeline import make_pipeline\n",
        "from sklearn.pipeline import Pipeline\n",
        "from sklearn.ensemble import RandomForestClassifier\n",
        "from sklearn.ensemble import RandomForestRegressor\n",
        "from sklearn.tree import DecisionTreeClassifier\n",
        "from sklearn.tree import DecisionTreeRegressor\n",
        "from sklearn.neural_network import MLPClassifier\n",
        "from sklearn.metrics import confusion_matrix\n",
        "from sklearn.metrics import classification_report\n",
        "from PIL import Image\n",
        "from PIL import ImageFont\n",
        "from PIL import ImageDraw\n",
        "from scipy.signal import argrelextrema\n",
        "\n",
        "#Options\n",
        "pd.options.mode.chained_assignment = None  # default='warn'\n",
        "pd.set_option('display.max_colwidth', -1)\n",
        "np.set_printoptions(threshold=sys.maxsize)\n",
        "pd.set_option('display.max_rows', 500)\n",
        "pd.set_option('display.max_columns', 500)\n",
        "pd.set_option('display.width', 1000)\n",
        "warnings.filterwarnings(\"ignore\", category=FutureWarning) \n",
        "\n",
        "#Mount google drive\n",
        "drive.mount('/content/drive', force_remount=True)\n",
        "\n",
        "YouTubeVideo(YOUTUBE_ID)"
      ],
      "execution_count": 0,
      "outputs": [
        {
          "output_type": "stream",
          "text": [
            "Go to this URL in a browser: https://accounts.google.com/o/oauth2/auth?client_id=947318989803-6bn6qk8qdgf4n4g3pfee6491hc0brc4i.apps.googleusercontent.com&redirect_uri=urn%3Aietf%3Awg%3Aoauth%3A2.0%3Aoob&scope=email%20https%3A%2F%2Fwww.googleapis.com%2Fauth%2Fdocs.test%20https%3A%2F%2Fwww.googleapis.com%2Fauth%2Fdrive%20https%3A%2F%2Fwww.googleapis.com%2Fauth%2Fdrive.photos.readonly%20https%3A%2F%2Fwww.googleapis.com%2Fauth%2Fpeopleapi.readonly&response_type=code\n",
            "\n",
            "Enter your authorization code:\n",
            "··········\n",
            "Mounted at /content/drive\n"
          ],
          "name": "stdout"
        },
        {
          "output_type": "execute_result",
          "data": {
            "text/html": [
              "\n",
              "        <iframe\n",
              "            width=\"400\"\n",
              "            height=\"300\"\n",
              "            src=\"https://www.youtube.com/embed/Is8tMCpv4F8\"\n",
              "            frameborder=\"0\"\n",
              "            allowfullscreen\n",
              "        ></iframe>\n",
              "        "
            ],
            "text/plain": [
              "<IPython.lib.display.YouTubeVideo at 0x7f5c78e69080>"
            ],
            "image/jpeg": "[encoded data removed]"
          },
          "metadata": {
            "tags": []
          },
          "execution_count": 3
        }
      ]
    },
    {
      "cell_type": "code",
      "metadata": {
        "id": "iKCzk9gQYzbY",
        "colab_type": "code",
        "outputId": "177c02dd-0c38-48d2-d520-60c8fb3b4996",
        "colab": {
          "base_uri": "https://localhost:8080/"
        }
      },
      "source": [
        "#install OpenPose\n",
        "\n",
        "git_repo_url = 'https://github.com/CMU-Perceptual-Computing-Lab/openpose.git'\n",
        "project_name = splitext(basename(git_repo_url))[0]\n",
        "if not exists(project_name):\n",
        "  # install new CMake\n",
        "  !wget -q https://cmake.org/files/v3.13/cmake-3.13.0-Linux-x86_64.tar.gz\n",
        "  !tar xfz cmake-3.13.0-Linux-x86_64.tar.gz --strip-components=1 -C /usr/local\n",
        "  # clone openpose git\n",
        "  !git clone -q --depth 1 $git_repo_url\n",
        "  !sed -i 's/execute_process(COMMAND git checkout master WORKING_DIRECTORY ${CMAKE_SOURCE_DIR}\\/3rdparty\\/caffe)/execute_process(COMMAND git checkout f019d0dfe86f49d1140961f8c7dec22130c83154 WORKING_DIRECTORY ${CMAKE_SOURCE_DIR}\\/3rdparty\\/caffe)/g' openpose/CMakeLists.txt\n",
        "  # install system dependencies and libraries\n",
        "  !apt-get -qq install -y libatlas-base-dev libprotobuf-dev libleveldb-dev libsnappy-dev libhdf5-serial-dev protobuf-compiler libgflags-dev libgoogle-glog-dev liblmdb-dev opencl-headers ocl-icd-opencl-dev libviennacl-dev\n",
        "  # install python dependencies\n",
        "  !pip install -q youtube-dl\n",
        "  # build openpose\n",
        "  !cd openpose && rm -rf build || true && mkdir build && cd build && cmake -DBUILD_PYTHON=ON .. && make -j`nproc`\n",
        "  clear_output()\n",
        "  print(\"Installation done!\")\n",
        "else:\n",
        "  print(\"Already installed!\")"
      ],
      "execution_count": 0,
      "outputs": [
        {
          "output_type": "stream",
          "text": [
            "Installation done!\n"
          ],
          "name": "stdout"
        }
      ]
    },
    {
      "cell_type": "code",
      "metadata": {
        "id": "en6DsJcZfKFj",
        "colab_type": "code",
        "outputId": "e710ea15-a43a-4fe5-8161-0b2f145729a2",
        "colab": {
          "base_uri": "https://localhost:8080/",
          "height": 119
        }
      },
      "source": [
        "#Clear folders and download new youtube video.\n",
        "!rm -rf \"/content/drive/My Drive/Thesis/\"\n",
        "\n",
        "!youtube-dl -f 'bestvideo[ext=mp4]' --write-auto-sub --output \"/content/drive/My Drive/Thesis/youtube.%(ext)s\" https://www.youtube.com/watch?v=$YOUTUBE_ID\n",
        "preparation_end = time.time()"
      ],
      "execution_count": 0,
      "outputs": [
        {
          "output_type": "stream",
          "text": [
            "[youtube] Is8tMCpv4F8: Downloading webpage\n",
            "[youtube] Is8tMCpv4F8: Downloading video info webpage\n",
            "[youtube] Is8tMCpv4F8: Looking for automatic captions\n",
            "[info] Writing video subtitles to: /content/drive/My Drive/Thesis/youtube.en.vtt\n",
            "[download] Destination: /content/drive/My Drive/Thesis/youtube.mp4\n",
            "\u001b[K[download] 100% of 131.52MiB in 00:25\n"
          ],
          "name": "stdout"
        }
      ]
    },
    {
      "cell_type": "code",
      "metadata": {
        "id": "B80hdtA_YfqD",
        "colab_type": "code",
        "outputId": "6d44d787-ac82-4543-dae6-7986ce154138",
        "colab": {
          "base_uri": "https://localhost:8080/",
          "height": 1000
        }
      },
      "source": [
        "#Inject timecode into video\n",
        "\n",
        "!ffmpeg -i '/content/drive/My Drive/Thesis/youtube.mp4' -vf \"drawtext=fontfile=/usr/share/fonts/truetype/DroidSans.ttf: timecode='00\\:00\\:00\\:00': fontsize=65: r=23.98: \\ x=(w-tw)/2: y=h-(2*lh): fontcolor=white: box=1: boxcolor=0x00000000@1\" -an -y '/content/drive/My Drive/Thesis/youtube_timecode.mp4'\n"
      ],
      "execution_count": 0,
      "outputs": [
        {
          "output_type": "stream",
          "text": [
            "ffmpeg version 3.4.6-0ubuntu0.18.04.1 Copyright (c) 2000-2019 the FFmpeg developers\n",
            "  built with gcc 7 (Ubuntu 7.3.0-16ubuntu3)\n",
            "  configuration: --prefix=/usr --extra-version=0ubuntu0.18.04.1 --toolchain=hardened --libdir=/usr/lib/x86_64-linux-gnu --incdir=/usr/include/x86_64-linux-gnu --enable-gpl --disable-stripping --enable-avresample --enable-avisynth --enable-gnutls --enable-ladspa --enable-libass --enable-libbluray --enable-libbs2b --enable-libcaca --enable-libcdio --enable-libflite --enable-libfontconfig --enable-libfreetype --enable-libfribidi --enable-libgme --enable-libgsm --enable-libmp3lame --enable-libmysofa --enable-libopenjpeg --enable-libopenmpt --enable-libopus --enable-libpulse --enable-librubberband --enable-librsvg --enable-libshine --enable-libsnappy --enable-libsoxr --enable-libspeex --enable-libssh --enable-libtheora --enable-libtwolame --enable-libvorbis --enable-libvpx --enable-libwavpack --enable-libwebp --enable-libx265 --enable-libxml2 --enable-libxvid --enable-libzmq --enable-libzvbi --enable-omx --enable-openal --enable-opengl --enable-sdl2 --enable-libdc1394 --enable-libdrm --enable-libiec61883 --enable-chromaprint --enable-frei0r --enable-libopencv --enable-libx264 --enable-shared\n",
            "  libavutil      55. 78.100 / 55. 78.100\n",
            "  libavcodec     57.107.100 / 57.107.100\n",
            "  libavformat    57. 83.100 / 57. 83.100\n",
            "  libavdevice    57. 10.100 / 57. 10.100\n",
            "  libavfilter     6.107.100 /  6.107.100\n",
            "  libavresample   3.  7.  0 /  3.  7.  0\n",
            "  libswscale      4.  8.100 /  4.  8.100\n",
            "  libswresample   2.  9.100 /  2.  9.100\n",
            "  libpostproc    54.  7.100 / 54.  7.100\n",
            "Input #0, mov,mp4,m4a,3gp,3g2,mj2, from '/content/drive/My Drive/Thesis/youtube.mp4':\n",
            "  Metadata:\n",
            "    major_brand     : dash\n",
            "    minor_version   : 0\n",
            "    compatible_brands: iso6avc1mp41\n",
            "    creation_time   : 2018-10-23T18:30:31.000000Z\n",
            "  Duration: 00:26:52.65, start: 0.000000, bitrate: 684 kb/s\n",
            "    Stream #0:0(und): Video: h264 (High) (avc1 / 0x31637661), yuv420p(tv, bt709, progressive), 1920x1080 [SAR 1:1 DAR 16:9], 2 kb/s, 23.98 fps, 23.98 tbr, 90k tbn, 47.95 tbc (default)\n",
            "    Metadata:\n",
            "      creation_time   : 2018-10-23T18:30:31.000000Z\n",
            "      handler_name    : VideoHandler\n",
            "Stream mapping:\n",
            "  Stream #0:0 -> #0:0 (h264 (native) -> h264 (libx264))\n",
            "Press [q] to stop, [?] for help\n",
            "\u001b[1;32m[Parsed_drawtext_0 @ 0x5589f850b2c0] \u001b[0mUsing \"/usr/share/fonts/truetype/liberation/LiberationMono-Regular.ttf\"\n",
            "\u001b[1;36m[libx264 @ 0x5589f8533e00] \u001b[0musing SAR=1/1\n",
            "\u001b[1;36m[libx264 @ 0x5589f8533e00] \u001b[0musing cpu capabilities: MMX2 SSE2Fast SSSE3 SSE4.2 AVX FMA3 BMI2 AVX2\n",
            "\u001b[1;36m[libx264 @ 0x5589f8533e00] \u001b[0mprofile High, level 4.0\n",
            "\u001b[1;36m[libx264 @ 0x5589f8533e00] \u001b[0m264 - core 152 r2854 e9a5903 - H.264/MPEG-4 AVC codec - Copyleft 2003-2017 - http://www.videolan.org/x264.html - options: cabac=1 ref=3 deblock=1:0:0 analyse=0x3:0x113 me=hex subme=7 psy=1 psy_rd=1.00:0.00 mixed_ref=1 me_range=16 chroma_me=1 trellis=1 8x8dct=1 cqm=0 deadzone=21,11 fast_pskip=1 chroma_qp_offset=-2 threads=3 lookahead_threads=1 sliced_threads=0 nr=0 decimate=1 interlaced=0 bluray_compat=0 constrained_intra=0 bframes=3 b_pyramid=2 b_adapt=1 b_bias=0 direct=1 weightb=1 open_gop=0 weightp=2 keyint=250 keyint_min=23 scenecut=40 intra_refresh=0 rc_lookahead=40 rc=crf mbtree=1 crf=23.0 qcomp=0.60 qpmin=0 qpmax=69 qpstep=4 ip_ratio=1.40 aq=1:1.00\n",
            "Output #0, mp4, to '/content/drive/My Drive/Thesis/youtube_timecode.mp4':\n",
            "  Metadata:\n",
            "    major_brand     : dash\n",
            "    minor_version   : 0\n",
            "    compatible_brands: iso6avc1mp41\n",
            "    encoder         : Lavf57.83.100\n",
            "    Stream #0:0(und): Video: h264 (libx264) (avc1 / 0x31637661), yuv420p, 1920x1080 [SAR 1:1 DAR 16:9], q=-1--1, 23.98 fps, 24k tbn, 23.98 tbc (default)\n",
            "    Metadata:\n",
            "      creation_time   : 2018-10-23T18:30:31.000000Z\n",
            "      handler_name    : VideoHandler\n",
            "      encoder         : Lavc57.107.100 libx264\n",
            "    Side data:\n",
            "      cpb: bitrate max/min/avg: 0/0/0 buffer size: 0 vbv_delay: -1\n",
            "frame=38665 fps= 13 q=-1.0 Lsize=  240419kB time=00:26:52.52 bitrate=1221.4kbits/s speed=0.531x    \n",
            "video:239976kB audio:0kB subtitle:0kB other streams:0kB global headers:0kB muxing overhead: 0.184623%\n",
            "\u001b[1;36m[libx264 @ 0x5589f8533e00] \u001b[0mframe I:158   Avg QP:15.55  size:146504\n",
            "\u001b[1;36m[libx264 @ 0x5589f8533e00] \u001b[0mframe P:11738 Avg QP:18.66  size: 13798\n",
            "\u001b[1;36m[libx264 @ 0x5589f8533e00] \u001b[0mframe B:26769 Avg QP:22.60  size:  2265\n",
            "\u001b[1;36m[libx264 @ 0x5589f8533e00] \u001b[0mconsecutive B-frames:  1.7% 13.4% 13.3% 71.5%\n",
            "\u001b[1;36m[libx264 @ 0x5589f8533e00] \u001b[0mmb I  I16..4: 16.9% 64.2% 18.9%\n",
            "\u001b[1;36m[libx264 @ 0x5589f8533e00] \u001b[0mmb P  I16..4:  2.4%  4.7%  0.4%  P16..4: 19.7%  5.4%  2.8%  0.0%  0.0%    skip:64.6%\n",
            "\u001b[1;36m[libx264 @ 0x5589f8533e00] \u001b[0mmb B  I16..4:  0.1%  0.2%  0.0%  B16..8: 15.1%  0.7%  0.1%  direct: 0.4%  skip:83.3%  L0:43.3% L1:54.3% BI: 2.5%\n",
            "\u001b[1;36m[libx264 @ 0x5589f8533e00] \u001b[0m8x8 transform intra:62.6% inter:79.8%\n",
            "\u001b[1;36m[libx264 @ 0x5589f8533e00] \u001b[0mcoded y,uvDC,uvAC intra: 34.1% 34.9% 6.8% inter: 2.7% 2.6% 0.0%\n",
            "\u001b[1;36m[libx264 @ 0x5589f8533e00] \u001b[0mi16 v,h,dc,p: 21% 34%  9% 36%\n",
            "\u001b[1;36m[libx264 @ 0x5589f8533e00] \u001b[0mi8 v,h,dc,ddl,ddr,vr,hd,vl,hu: 25% 24% 30%  3%  3%  3%  4%  3%  5%\n",
            "\u001b[1;36m[libx264 @ 0x5589f8533e00] \u001b[0mi4 v,h,dc,ddl,ddr,vr,hd,vl,hu: 26% 36% 13%  4%  5%  4%  5%  4%  4%\n",
            "\u001b[1;36m[libx264 @ 0x5589f8533e00] \u001b[0mi8c dc,h,v,p: 56% 25% 15%  4%\n",
            "\u001b[1;36m[libx264 @ 0x5589f8533e00] \u001b[0mWeighted P-Frames: Y:0.9% UV:0.5%\n",
            "\u001b[1;36m[libx264 @ 0x5589f8533e00] \u001b[0mref P L0: 68.6% 14.4% 13.5%  3.5%  0.0%\n",
            "\u001b[1;36m[libx264 @ 0x5589f8533e00] \u001b[0mref B L0: 87.7% 11.1%  1.2%\n",
            "\u001b[1;36m[libx264 @ 0x5589f8533e00] \u001b[0mref B L1: 97.3%  2.7%\n",
            "\u001b[1;36m[libx264 @ 0x5589f8533e00] \u001b[0mkb/s:1219.03\n"
          ],
          "name": "stdout"
        }
      ]
    },
    {
      "cell_type": "code",
      "metadata": {
        "id": "v0bFWukxGYB_",
        "colab_type": "code",
        "colab": {}
      },
      "source": [
        ""
      ],
      "execution_count": 0,
      "outputs": []
    },
    {
      "cell_type": "markdown",
      "metadata": {
        "id": "tiWcP_kGu-bu",
        "colab_type": "text"
      },
      "source": [
        "# **Preprocessing**"
      ]
    },
    {
      "cell_type": "code",
      "metadata": {
        "id": "JAYa-kV9ZWrz",
        "colab_type": "code",
        "outputId": "539bcfaa-12e5-4b49-e3fa-90abeb894342",
        "colab": {
          "base_uri": "https://localhost:8080/",
          "height": 34
        }
      },
      "source": [
        "preprocessing_start = time.time()\n",
        "#Use openpose to analyse video, export frames and export json with coordinates.\n",
        "\n",
        "#Full analysis\n",
        "!cd openpose && ./build/examples/openpose/openpose.bin --video \"/content/drive/My Drive/Thesis/youtube_timecode.mp4\" --write_json \"/content/drive/My Drive/Thesis/json_output/\" --write_images \"/content/drive/My Drive/Thesis/jpg_output/\" --display 0 --number_people_max 1  --render_pose 1 --frame_step 6 --write_video \"/content/drive/My Drive/Thesis/openpose.avi.mp4\"\n",
        "\n",
        "\n",
        "#JSON Only\n",
        "#!cd openpose && ./build/examples/openpose/openpose.bin --video \"/content/drive/My Drive/Thesis/youtube.mp4\" --write_json \"/content/drive/My Drive/Thesis/json_output/\" --display 0 --number_people_max 1  --frame_step 100 --render_pose 0"
      ],
      "execution_count": 0,
      "outputs": [
        {
          "output_type": "stream",
          "text": [
            "/bin/bash: ./build/examples/openpose/openpose.bin: No such file or directory\n"
          ],
          "name": "stdout"
        }
      ]
    },
    {
      "cell_type": "code",
      "metadata": {
        "id": "YdW9hjaRaxxA",
        "colab_type": "code",
        "colab": {}
      },
      "source": [
        "#Process created json coordinates to dataframe to prep for analysis.\n",
        "\n",
        "pathlist = Path('/content/drive/My Drive/Thesis/json_output/').glob('**/*.json')\n",
        "posedata = []\n",
        "num_files = sum([len(files) for r, d, files in os.walk('/content/drive/My Drive/Thesis/json_output/')])\n",
        "filename = []\n",
        "imagename = []\n",
        "\n",
        "j = 0\n",
        "for file in pathlist:\n",
        "  j += 1\n",
        "  print('File ', j, ' of ', num_files)\n",
        "  image = str(file).replace(\"_keypoints.json\", \"_rendered.png\").replace(\"json_output\", \"jpg_output\")\n",
        "  data = pd.read_json(file)\n",
        "  datapeople = data['people'].to_json(orient='split')\n",
        "\n",
        "  if datapeople == '{\"name\":\"people\",\"index\":[],\"data\":[]}':\n",
        "    continue\n",
        "\n",
        "  else:\n",
        "    posedata.append(datapeople)\n",
        "    df = pd.DataFrame(posedata, columns=['rawposedata'])\n",
        "    df2 = pd.io.json.json_normalize(df['rawposedata'].apply(json.loads))\n",
        "    new_df = pd.concat([pd.DataFrame(json_normalize(x)) for x in df2['data']],ignore_index=True)\n",
        "    new_df['filename'] = file\n",
        "\n",
        "    try:\n",
        "      poseinformation = pd.DataFrame(new_df['pose_keypoints_2d'].values.tolist())\n",
        "      filename.append(file)\n",
        "      imagename.append(image)\n",
        "    except KeyError:\n",
        "      continue\n",
        "    if j % 500 == 0:\n",
        "      clear_output()\n",
        "      poseinformation['Filename'] = filename\n",
        "      poseinformation['Imagename'] = imagename\n",
        "      poseinformation.to_csv(path_or_buf='/content/drive/My Drive/Thesis/Poseinformation/json_preprocessed_'+(time.strftime(\"%H-%M|%d-%m-%Y\"))+'.csv')\n",
        "      poseinformation = poseinformation.iloc[0:0]\n",
        "      new_df = new_df.iloc[0:0]\n",
        "      df2 = df2.iloc[0:0]\n",
        "      df = df.iloc[0:0]\n",
        "      filename = []\n",
        "      imagename = []\n",
        "      posedata = []\n",
        "      clear_output()"
      ],
      "execution_count": 0,
      "outputs": []
    },
    {
      "cell_type": "code",
      "metadata": {
        "id": "f5pzVHvGBSHe",
        "colab_type": "code",
        "outputId": "46d1dad1-98e8-4277-8e95-a5620119e4e7",
        "colab": {
          "base_uri": "https://localhost:8080/",
          "height": 374
        }
      },
      "source": [
        "path = r'/content/drive/My Drive/Thesis/Poseinformation/'\n",
        "all_files = glob.glob(path + \"/*.csv\")\n",
        "\n",
        "li = []\n",
        "\n",
        "for filename in all_files:\n",
        "    df = pd.read_csv(filename, index_col=None, header=0)\n",
        "    li.append(df)\n",
        "\n",
        "poseinformation = pd.concat(li, axis=0, ignore_index=True)\n",
        "\n",
        "print(poseinformation.shape)\n",
        "print(len(filename))\n",
        "\n",
        "\n",
        "preprocessing_end = time.time()   \n",
        "poseinformation.head()"
      ],
      "execution_count": 0,
      "outputs": [
        {
          "output_type": "error",
          "ename": "ValueError",
          "evalue": "ignored",
          "traceback": [
            "\u001b[0;31m---------------------------------------------------------------------------\u001b[0m",
            "\u001b[0;31mValueError\u001b[0m                                Traceback (most recent call last)",
            "\u001b[0;32m<ipython-input-10-37a4eded83ea>\u001b[0m in \u001b[0;36m<module>\u001b[0;34m()\u001b[0m\n\u001b[1;32m      8\u001b[0m     \u001b[0mli\u001b[0m\u001b[0;34m.\u001b[0m\u001b[0mappend\u001b[0m\u001b[0;34m(\u001b[0m\u001b[0mdf\u001b[0m\u001b[0;34m)\u001b[0m\u001b[0;34m\u001b[0m\u001b[0;34m\u001b[0m\u001b[0m\n\u001b[1;32m      9\u001b[0m \u001b[0;34m\u001b[0m\u001b[0m\n\u001b[0;32m---> 10\u001b[0;31m \u001b[0mposeinformation\u001b[0m \u001b[0;34m=\u001b[0m \u001b[0mpd\u001b[0m\u001b[0;34m.\u001b[0m\u001b[0mconcat\u001b[0m\u001b[0;34m(\u001b[0m\u001b[0mli\u001b[0m\u001b[0;34m,\u001b[0m \u001b[0maxis\u001b[0m\u001b[0;34m=\u001b[0m\u001b[0;36m0\u001b[0m\u001b[0;34m,\u001b[0m \u001b[0mignore_index\u001b[0m\u001b[0;34m=\u001b[0m\u001b[0;32mTrue\u001b[0m\u001b[0;34m)\u001b[0m\u001b[0;34m\u001b[0m\u001b[0;34m\u001b[0m\u001b[0m\n\u001b[0m\u001b[1;32m     11\u001b[0m \u001b[0;34m\u001b[0m\u001b[0m\n\u001b[1;32m     12\u001b[0m \u001b[0mprint\u001b[0m\u001b[0;34m(\u001b[0m\u001b[0mposeinformation\u001b[0m\u001b[0;34m.\u001b[0m\u001b[0mshape\u001b[0m\u001b[0;34m)\u001b[0m\u001b[0;34m\u001b[0m\u001b[0;34m\u001b[0m\u001b[0m\n",
            "\u001b[0;32m/usr/local/lib/python3.6/dist-packages/pandas/core/reshape/concat.py\u001b[0m in \u001b[0;36mconcat\u001b[0;34m(objs, axis, join, join_axes, ignore_index, keys, levels, names, verify_integrity, sort, copy)\u001b[0m\n\u001b[1;32m    226\u001b[0m                        \u001b[0mkeys\u001b[0m\u001b[0;34m=\u001b[0m\u001b[0mkeys\u001b[0m\u001b[0;34m,\u001b[0m \u001b[0mlevels\u001b[0m\u001b[0;34m=\u001b[0m\u001b[0mlevels\u001b[0m\u001b[0;34m,\u001b[0m \u001b[0mnames\u001b[0m\u001b[0;34m=\u001b[0m\u001b[0mnames\u001b[0m\u001b[0;34m,\u001b[0m\u001b[0;34m\u001b[0m\u001b[0;34m\u001b[0m\u001b[0m\n\u001b[1;32m    227\u001b[0m                        \u001b[0mverify_integrity\u001b[0m\u001b[0;34m=\u001b[0m\u001b[0mverify_integrity\u001b[0m\u001b[0;34m,\u001b[0m\u001b[0;34m\u001b[0m\u001b[0;34m\u001b[0m\u001b[0m\n\u001b[0;32m--> 228\u001b[0;31m                        copy=copy, sort=sort)\n\u001b[0m\u001b[1;32m    229\u001b[0m     \u001b[0;32mreturn\u001b[0m \u001b[0mop\u001b[0m\u001b[0;34m.\u001b[0m\u001b[0mget_result\u001b[0m\u001b[0;34m(\u001b[0m\u001b[0;34m)\u001b[0m\u001b[0;34m\u001b[0m\u001b[0;34m\u001b[0m\u001b[0m\n\u001b[1;32m    230\u001b[0m \u001b[0;34m\u001b[0m\u001b[0m\n",
            "\u001b[0;32m/usr/local/lib/python3.6/dist-packages/pandas/core/reshape/concat.py\u001b[0m in \u001b[0;36m__init__\u001b[0;34m(self, objs, axis, join, join_axes, keys, levels, names, ignore_index, verify_integrity, copy, sort)\u001b[0m\n\u001b[1;32m    260\u001b[0m \u001b[0;34m\u001b[0m\u001b[0m\n\u001b[1;32m    261\u001b[0m         \u001b[0;32mif\u001b[0m \u001b[0mlen\u001b[0m\u001b[0;34m(\u001b[0m\u001b[0mobjs\u001b[0m\u001b[0;34m)\u001b[0m \u001b[0;34m==\u001b[0m \u001b[0;36m0\u001b[0m\u001b[0;34m:\u001b[0m\u001b[0;34m\u001b[0m\u001b[0;34m\u001b[0m\u001b[0m\n\u001b[0;32m--> 262\u001b[0;31m             \u001b[0;32mraise\u001b[0m \u001b[0mValueError\u001b[0m\u001b[0;34m(\u001b[0m\u001b[0;34m'No objects to concatenate'\u001b[0m\u001b[0;34m)\u001b[0m\u001b[0;34m\u001b[0m\u001b[0;34m\u001b[0m\u001b[0m\n\u001b[0m\u001b[1;32m    263\u001b[0m \u001b[0;34m\u001b[0m\u001b[0m\n\u001b[1;32m    264\u001b[0m         \u001b[0;32mif\u001b[0m \u001b[0mkeys\u001b[0m \u001b[0;32mis\u001b[0m \u001b[0;32mNone\u001b[0m\u001b[0;34m:\u001b[0m\u001b[0;34m\u001b[0m\u001b[0;34m\u001b[0m\u001b[0m\n",
            "\u001b[0;31mValueError\u001b[0m: No objects to concatenate"
          ]
        }
      ]
    },
    {
      "cell_type": "markdown",
      "metadata": {
        "id": "cBLOFEo7SyNb",
        "colab_type": "text"
      },
      "source": [
        ""
      ]
    }
  ]
}