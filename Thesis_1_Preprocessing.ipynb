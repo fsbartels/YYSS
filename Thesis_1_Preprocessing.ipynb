{
  "nbformat": 4,
  "nbformat_minor": 0,
  "metadata": {
    "colab": {
      "name": "Thesis 1. Preprocessing",
      "version": "0.3.2",
      "provenance": [],
      "collapsed_sections": []
    },
    "kernelspec": {
      "name": "python3",
      "display_name": "Python 3"
    },
    "accelerator": "GPU"
  },
  "cells": [
    {
      "cell_type": "markdown",
      "metadata": {
        "id": "9wv0iyb3trVa",
        "colab_type": "text"
      },
      "source": [
        "## KEY VARIABLES\n",
        "* Youtube_ID obviously designates the video to analyze.\n",
        "* Frame step designates how many frames per second to analyze with OpenPose. Default fps is 24 frames per second.\n"
      ]
    },
    {
      "cell_type": "code",
      "metadata": {
        "id": "y0qXCFKSttMb",
        "colab_type": "code",
        "colab": {}
      },
      "source": [
        "YOUTUBE_ID = 'Is8tMCpv4F8'\n",
        "# Frame_step also has to be set manually @ preprocessing!\n",
        "FRAMESTEP = 6"
      ],
      "execution_count": 0,
      "outputs": []
    },
    {
      "cell_type": "markdown",
      "metadata": {
        "id": "K6qgyzjjuvZa",
        "colab_type": "text"
      },
      "source": [
        "# **Preparation**"
      ]
    },
    {
      "cell_type": "code",
      "metadata": {
        "id": "wk56Wvpf508P",
        "colab_type": "code",
        "colab": {}
      },
      "source": [
        "import time\n",
        "preparation_start = time.time()\n",
        "\n",
        "# Pick and show Youtube video\n",
        "### Elderly yoga example: YOUTUBE_ID = 'kFhG-ZzLNN4'\n",
        "### Default example: YOUTUBE_ID = 'nQFf38xeBww'\n",
        "\n",
        "#Import required modules\n",
        "import pandas as pd\n",
        "from pandas.io.json import json_normalize\n",
        "from pathlib import Path\n",
        "import json\n",
        "from IPython.display import YouTubeVideo\n",
        "from google.colab import drive\n",
        "import os\n",
        "from os.path import exists, join, basename, splitext\n",
        "from IPython.display import clear_output\n",
        "import os\n",
        "from __future__ import print_function\n",
        "from __future__ import division\n",
        "import cv2 as cv\n",
        "import numpy as np\n",
        "import argparse\n",
        "import glob\n",
        "import imutils\n",
        "import seaborn as sns; sns.set()\n",
        "import matplotlib.pyplot as plt\n",
        "from IPython.display import Image\n",
        "import PIL\n",
        "import warnings\n",
        "from scipy.spatial import procrustes \n",
        "import sys\n",
        "import seaborn as sns\n",
        "from scipy.spatial import distance\n",
        "import sklearn\n",
        "from sklearn.impute import SimpleImputer\n",
        "from sklearn.preprocessing import StandardScaler\n",
        "from sklearn.model_selection import train_test_split\n",
        "from sklearn.model_selection import cross_val_score\n",
        "from sklearn.linear_model import LinearRegression\n",
        "from sklearn.linear_model import Ridge\n",
        "from sklearn.linear_model import Lasso\n",
        "from sklearn.neighbors import KNeighborsClassifier\n",
        "from sklearn.neighbors import KNeighborsRegressor\n",
        "from sklearn.linear_model import LogisticRegression\n",
        "from sklearn.svm import LinearSVC\n",
        "from sklearn.model_selection import GridSearchCV\n",
        "from sklearn.pipeline import make_pipeline\n",
        "from sklearn.pipeline import Pipeline\n",
        "from sklearn.ensemble import RandomForestClassifier\n",
        "from sklearn.ensemble import RandomForestRegressor\n",
        "from sklearn.tree import DecisionTreeClassifier\n",
        "from sklearn.tree import DecisionTreeRegressor\n",
        "from sklearn.neural_network import MLPClassifier\n",
        "from sklearn.metrics import confusion_matrix\n",
        "from sklearn.metrics import classification_report\n",
        "from PIL import Image\n",
        "from PIL import ImageFont\n",
        "from PIL import ImageDraw\n",
        "from scipy.signal import argrelextrema\n",
        "\n",
        "#Options\n",
        "pd.options.mode.chained_assignment = None  # default='warn'\n",
        "pd.set_option('display.max_colwidth', -1)\n",
        "np.set_printoptions(threshold=sys.maxsize)\n",
        "pd.set_option('display.max_rows', 500)\n",
        "pd.set_option('display.max_columns', 500)\n",
        "pd.set_option('display.width', 1000)\n",
        "warnings.filterwarnings(\"ignore\", category=FutureWarning) \n",
        "\n",
        "#Mount google drive\n",
        "drive.mount('/content/drive', force_remount=True)\n",
        "\n",
        "YouTubeVideo(YOUTUBE_ID)"
      ],
      "execution_count": 0,
      "outputs": []
    },
    {
      "cell_type": "code",
      "metadata": {
        "id": "iKCzk9gQYzbY",
        "colab_type": "code",
        "colab": {}
      },
      "source": [
        "#install OpenPose\n",
        "\n",
        "git_repo_url = 'https://github.com/CMU-Perceptual-Computing-Lab/openpose.git'\n",
        "project_name = splitext(basename(git_repo_url))[0]\n",
        "if not exists(project_name):\n",
        "  # install new CMake\n",
        "  !wget -q https://cmake.org/files/v3.13/cmake-3.13.0-Linux-x86_64.tar.gz\n",
        "  !tar xfz cmake-3.13.0-Linux-x86_64.tar.gz --strip-components=1 -C /usr/local\n",
        "  # clone openpose git\n",
        "  !git clone -q --depth 1 $git_repo_url\n",
        "  !sed -i 's/execute_process(COMMAND git checkout master WORKING_DIRECTORY ${CMAKE_SOURCE_DIR}\\/3rdparty\\/caffe)/execute_process(COMMAND git checkout f019d0dfe86f49d1140961f8c7dec22130c83154 WORKING_DIRECTORY ${CMAKE_SOURCE_DIR}\\/3rdparty\\/caffe)/g' openpose/CMakeLists.txt\n",
        "  # install system dependencies and libraries\n",
        "  !apt-get -qq install -y libatlas-base-dev libprotobuf-dev libleveldb-dev libsnappy-dev libhdf5-serial-dev protobuf-compiler libgflags-dev libgoogle-glog-dev liblmdb-dev opencl-headers ocl-icd-opencl-dev libviennacl-dev\n",
        "  # install python dependencies\n",
        "  !pip install -q youtube-dl\n",
        "  # build openpose\n",
        "  !cd openpose && rm -rf build || true && mkdir build && cd build && cmake -DBUILD_PYTHON=ON .. && make -j`nproc`\n",
        "  clear_output()\n",
        "  print(\"Installation done!\")\n",
        "else:\n",
        "  print(\"Already installed!\")"
      ],
      "execution_count": 0,
      "outputs": []
    },
    {
      "cell_type": "code",
      "metadata": {
        "id": "en6DsJcZfKFj",
        "colab_type": "code",
        "colab": {}
      },
      "source": [
        "#Clear folders and download new youtube video.\n",
        "!rm -rf \"/content/drive/My Drive/Thesis/\"\n",
        "\n",
        "!youtube-dl -f 'bestvideo[ext=mp4]' --write-auto-sub --output \"/content/drive/My Drive/Thesis/youtube.%(ext)s\" https://www.youtube.com/watch?v=$YOUTUBE_ID\n",
        "preparation_end = time.time()"
      ],
      "execution_count": 0,
      "outputs": []
    },
    {
      "cell_type": "code",
      "metadata": {
        "id": "B80hdtA_YfqD",
        "colab_type": "code",
        "colab": {}
      },
      "source": [
        "#Inject timecode into video\n",
        "\n",
        "!ffmpeg -i '/content/drive/My Drive/Thesis/youtube.mp4' -vf \"drawtext=fontfile=/usr/share/fonts/truetype/DroidSans.ttf: timecode='00\\:00\\:00\\:00': fontsize=65: r=23.98: \\ x=(w-tw)/2: y=h-(2*lh): fontcolor=white: box=1: boxcolor=0x00000000@1\" -an -y '/content/drive/My Drive/Thesis/youtube_timecode.mp4'\n"
      ],
      "execution_count": 0,
      "outputs": []
    },
    {
      "cell_type": "code",
      "metadata": {
        "id": "v0bFWukxGYB_",
        "colab_type": "code",
        "colab": {}
      },
      "source": [
        ""
      ],
      "execution_count": 0,
      "outputs": []
    },
    {
      "cell_type": "markdown",
      "metadata": {
        "id": "tiWcP_kGu-bu",
        "colab_type": "text"
      },
      "source": [
        "# **Preprocessing**"
      ]
    },
    {
      "cell_type": "code",
      "metadata": {
        "id": "JAYa-kV9ZWrz",
        "colab_type": "code",
        "colab": {}
      },
      "source": [
        "preprocessing_start = time.time()\n",
        "#Use openpose to analyse video, export frames and export json with coordinates.\n",
        "\n",
        "#Full analysis\n",
        "!cd openpose && ./build/examples/openpose/openpose.bin --video \"/content/drive/My Drive/Thesis/youtube_timecode.mp4\" --write_json \"/content/drive/My Drive/Thesis/json_output/\" --write_images \"/content/drive/My Drive/Thesis/jpg_output/\" --display 0 --number_people_max 1  --render_pose 1 --frame_step 6 --write_video \"/content/drive/My Drive/Thesis/openpose.avi.mp4\"\n",
        "\n",
        "\n",
        "#JSON Only\n",
        "#!cd openpose && ./build/examples/openpose/openpose.bin --video \"/content/drive/My Drive/Thesis/youtube.mp4\" --write_json \"/content/drive/My Drive/Thesis/json_output/\" --display 0 --number_people_max 1  --frame_step 100 --render_pose 0"
      ],
      "execution_count": 0,
      "outputs": []
    },
    {
      "cell_type": "code",
      "metadata": {
        "id": "YdW9hjaRaxxA",
        "colab_type": "code",
        "colab": {}
      },
      "source": [
        "#Process created json coordinates to dataframe to prep for analysis.\n",
        "\n",
        "pathlist = Path('/content/drive/My Drive/Thesis/json_output/').glob('**/*.json')\n",
        "posedata = []\n",
        "num_files = sum([len(files) for r, d, files in os.walk('/content/drive/My Drive/Thesis/json_output/')])\n",
        "filename = []\n",
        "imagename = []\n",
        "\n",
        "j = 0\n",
        "for file in pathlist:\n",
        "  j += 1\n",
        "  print('File ', j, ' of ', num_files)\n",
        "  image = str(file).replace(\"_keypoints.json\", \"_rendered.png\").replace(\"json_output\", \"jpg_output\")\n",
        "  data = pd.read_json(file)\n",
        "  datapeople = data['people'].to_json(orient='split')\n",
        "\n",
        "  if datapeople == '{\"name\":\"people\",\"index\":[],\"data\":[]}':\n",
        "    continue\n",
        "\n",
        "  else:\n",
        "    posedata.append(datapeople)\n",
        "    df = pd.DataFrame(posedata, columns=['rawposedata'])\n",
        "    df2 = pd.io.json.json_normalize(df['rawposedata'].apply(json.loads))\n",
        "    new_df = pd.concat([pd.DataFrame(json_normalize(x)) for x in df2['data']],ignore_index=True)\n",
        "    new_df['filename'] = file\n",
        "\n",
        "    try:\n",
        "      poseinformation = pd.DataFrame(new_df['pose_keypoints_2d'].values.tolist())\n",
        "      filename.append(file)\n",
        "      imagename.append(image)\n",
        "    except KeyError:\n",
        "      continue\n",
        "    if j % 500 == 0:\n",
        "      clear_output()\n",
        "      poseinformation['Filename'] = filename\n",
        "      poseinformation['Imagename'] = imagename\n",
        "      poseinformation.to_csv(path_or_buf='/content/drive/My Drive/Thesis/Poseinformation/json_preprocessed_'+(time.strftime(\"%H-%M|%d-%m-%Y\"))+'.csv')\n",
        "      poseinformation = poseinformation.iloc[0:0]\n",
        "      new_df = new_df.iloc[0:0]\n",
        "      df2 = df2.iloc[0:0]\n",
        "      df = df.iloc[0:0]\n",
        "      filename = []\n",
        "      imagename = []\n",
        "      posedata = []\n",
        "      clear_output()"
      ],
      "execution_count": 0,
      "outputs": []
    },
    {
      "cell_type": "code",
      "metadata": {
        "id": "f5pzVHvGBSHe",
        "colab_type": "code",
        "colab": {}
      },
      "source": [
        "path = r'/content/drive/My Drive/Thesis/Poseinformation/'\n",
        "all_files = glob.glob(path + \"/*.csv\")\n",
        "\n",
        "li = []\n",
        "\n",
        "for filename in all_files:\n",
        "    df = pd.read_csv(filename, index_col=None, header=0)\n",
        "    li.append(df)\n",
        "\n",
        "poseinformation = pd.concat(li, axis=0, ignore_index=True)\n",
        "\n",
        "print(poseinformation.shape)\n",
        "print(len(filename))\n",
        "\n",
        "\n",
        "preprocessing_end = time.time()   \n",
        "poseinformation.head()"
      ],
      "execution_count": 0,
      "outputs": []
    },
    {
      "cell_type": "markdown",
      "metadata": {
        "id": "cBLOFEo7SyNb",
        "colab_type": "text"
      },
      "source": [
        ""
      ]
    }
  ]
}